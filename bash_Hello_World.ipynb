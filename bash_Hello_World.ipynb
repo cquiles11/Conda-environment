{
 "cells": [
  {
   "cell_type": "markdown",
   "id": "c470f2f2-def4-4c16-a185-38e9be1b7ba0",
   "metadata": {},
   "source": [
    "# My wonderful bash script that says \"Hello World\" for my amazing class"
   ]
  },
  {
   "cell_type": "code",
   "execution_count": 2,
   "id": "0521855a-14d9-475c-8e21-be28416ad1e5",
   "metadata": {
    "tags": []
   },
   "outputs": [
    {
     "name": "stdout",
     "output_type": "stream",
     "text": [
      "Hello World\n"
     ]
    }
   ],
   "source": [
    "!echo \"Hello World\""
   ]
  },
  {
   "cell_type": "code",
   "execution_count": null,
   "id": "33e73fee-ebb7-4fb8-b844-344dcbd6ea36",
   "metadata": {},
   "outputs": [],
   "source": []
  }
 ],
 "metadata": {
  "kernelspec": {
   "display_name": "Python 3 (ipykernel)",
   "language": "python",
   "name": "python3"
  },
  "language_info": {
   "codemirror_mode": {
    "name": "ipython",
    "version": 3
   },
   "file_extension": ".py",
   "mimetype": "text/x-python",
   "name": "python",
   "nbconvert_exporter": "python",
   "pygments_lexer": "ipython3",
   "version": "3.11.4"
  }
 },
 "nbformat": 4,
 "nbformat_minor": 5
}
